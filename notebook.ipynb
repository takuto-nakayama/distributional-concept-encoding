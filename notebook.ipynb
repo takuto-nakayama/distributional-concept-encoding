{
 "cells": [
  {
   "cell_type": "code",
   "execution_count": 2,
   "metadata": {},
   "outputs": [
    {
     "ename": "FileNotFoundError",
     "evalue": "[Errno 2] Unable to open file (unable to open file: name = 'data/en.hdf5', errno = 2, error message = 'No such file or directory', flags = 0, o_flags = 0)",
     "output_type": "error",
     "traceback": [
      "\u001b[0;31m---------------------------------------------------------------------------\u001b[0m",
      "\u001b[0;31mFileNotFoundError\u001b[0m                         Traceback (most recent call last)",
      "Cell \u001b[0;32mIn[2], line 6\u001b[0m\n\u001b[1;32m      2\u001b[0m \u001b[38;5;28;01mimport\u001b[39;00m \u001b[38;5;21;01mpandas\u001b[39;00m \u001b[38;5;28;01mas\u001b[39;00m \u001b[38;5;21;01mpd\u001b[39;00m\n\u001b[1;32m      4\u001b[0m list_freq \u001b[38;5;241m=\u001b[39m []\n\u001b[0;32m----> 6\u001b[0m \u001b[38;5;28;01mwith\u001b[39;00m h5py\u001b[38;5;241m.\u001b[39mFile(\u001b[38;5;124m'\u001b[39m\u001b[38;5;124mdata/en.hdf5\u001b[39m\u001b[38;5;124m'\u001b[39m) \u001b[38;5;28;01mas\u001b[39;00m f:\n\u001b[1;32m      7\u001b[0m \tg \u001b[38;5;241m=\u001b[39m f[\u001b[38;5;124m'\u001b[39m\u001b[38;5;124men-4\u001b[39m\u001b[38;5;124m'\u001b[39m]\t\t\n\u001b[1;32m      8\u001b[0m \t\u001b[38;5;28;01mfor\u001b[39;00m k \u001b[38;5;129;01min\u001b[39;00m g\u001b[38;5;241m.\u001b[39mkeys():\n",
      "File \u001b[0;32m~/anaconda3/lib/python3.11/site-packages/h5py/_hl/files.py:561\u001b[0m, in \u001b[0;36mFile.__init__\u001b[0;34m(self, name, mode, driver, libver, userblock_size, swmr, rdcc_nslots, rdcc_nbytes, rdcc_w0, track_order, fs_strategy, fs_persist, fs_threshold, fs_page_size, page_buf_size, min_meta_keep, min_raw_keep, locking, alignment_threshold, alignment_interval, meta_block_size, **kwds)\u001b[0m\n\u001b[1;32m    552\u001b[0m     fapl \u001b[38;5;241m=\u001b[39m make_fapl(driver, libver, rdcc_nslots, rdcc_nbytes, rdcc_w0,\n\u001b[1;32m    553\u001b[0m                      locking, page_buf_size, min_meta_keep, min_raw_keep,\n\u001b[1;32m    554\u001b[0m                      alignment_threshold\u001b[38;5;241m=\u001b[39malignment_threshold,\n\u001b[1;32m    555\u001b[0m                      alignment_interval\u001b[38;5;241m=\u001b[39malignment_interval,\n\u001b[1;32m    556\u001b[0m                      meta_block_size\u001b[38;5;241m=\u001b[39mmeta_block_size,\n\u001b[1;32m    557\u001b[0m                      \u001b[38;5;241m*\u001b[39m\u001b[38;5;241m*\u001b[39mkwds)\n\u001b[1;32m    558\u001b[0m     fcpl \u001b[38;5;241m=\u001b[39m make_fcpl(track_order\u001b[38;5;241m=\u001b[39mtrack_order, fs_strategy\u001b[38;5;241m=\u001b[39mfs_strategy,\n\u001b[1;32m    559\u001b[0m                      fs_persist\u001b[38;5;241m=\u001b[39mfs_persist, fs_threshold\u001b[38;5;241m=\u001b[39mfs_threshold,\n\u001b[1;32m    560\u001b[0m                      fs_page_size\u001b[38;5;241m=\u001b[39mfs_page_size)\n\u001b[0;32m--> 561\u001b[0m     fid \u001b[38;5;241m=\u001b[39m make_fid(name, mode, userblock_size, fapl, fcpl, swmr\u001b[38;5;241m=\u001b[39mswmr)\n\u001b[1;32m    563\u001b[0m \u001b[38;5;28;01mif\u001b[39;00m \u001b[38;5;28misinstance\u001b[39m(libver, \u001b[38;5;28mtuple\u001b[39m):\n\u001b[1;32m    564\u001b[0m     \u001b[38;5;28mself\u001b[39m\u001b[38;5;241m.\u001b[39m_libver \u001b[38;5;241m=\u001b[39m libver\n",
      "File \u001b[0;32m~/anaconda3/lib/python3.11/site-packages/h5py/_hl/files.py:235\u001b[0m, in \u001b[0;36mmake_fid\u001b[0;34m(name, mode, userblock_size, fapl, fcpl, swmr)\u001b[0m\n\u001b[1;32m    233\u001b[0m     \u001b[38;5;28;01mif\u001b[39;00m swmr \u001b[38;5;129;01mand\u001b[39;00m swmr_support:\n\u001b[1;32m    234\u001b[0m         flags \u001b[38;5;241m|\u001b[39m\u001b[38;5;241m=\u001b[39m h5f\u001b[38;5;241m.\u001b[39mACC_SWMR_READ\n\u001b[0;32m--> 235\u001b[0m     fid \u001b[38;5;241m=\u001b[39m h5f\u001b[38;5;241m.\u001b[39mopen(name, flags, fapl\u001b[38;5;241m=\u001b[39mfapl)\n\u001b[1;32m    236\u001b[0m \u001b[38;5;28;01melif\u001b[39;00m mode \u001b[38;5;241m==\u001b[39m \u001b[38;5;124m'\u001b[39m\u001b[38;5;124mr+\u001b[39m\u001b[38;5;124m'\u001b[39m:\n\u001b[1;32m    237\u001b[0m     fid \u001b[38;5;241m=\u001b[39m h5f\u001b[38;5;241m.\u001b[39mopen(name, h5f\u001b[38;5;241m.\u001b[39mACC_RDWR, fapl\u001b[38;5;241m=\u001b[39mfapl)\n",
      "File \u001b[0;32mh5py/_objects.pyx:54\u001b[0m, in \u001b[0;36mh5py._objects.with_phil.wrapper\u001b[0;34m()\u001b[0m\n",
      "File \u001b[0;32mh5py/_objects.pyx:55\u001b[0m, in \u001b[0;36mh5py._objects.with_phil.wrapper\u001b[0;34m()\u001b[0m\n",
      "File \u001b[0;32mh5py/h5f.pyx:102\u001b[0m, in \u001b[0;36mh5py.h5f.open\u001b[0;34m()\u001b[0m\n",
      "\u001b[0;31mFileNotFoundError\u001b[0m: [Errno 2] Unable to open file (unable to open file: name = 'data/en.hdf5', errno = 2, error message = 'No such file or directory', flags = 0, o_flags = 0)"
     ]
    }
   ],
   "source": [
    "import h5py\n",
    "import pandas as pd\n",
    "\n",
    "list_freq = []\n",
    "\n",
    "with h5py.File('data/en.hdf5') as f:\n",
    "\tg = f['en-4']\t\t\n",
    "\tfor k in g.keys():\n",
    "\t\tlist_freq.append((k, g[k].shape[0]))\n",
    "\n",
    "df_freq = pd.DataFrame(list_freq)\n",
    "df_freq.sort_values(by=1, ascending=False, inplace=True)\n",
    "df_freq[df_freq[1]>1000]"
   ]
  },
  {
   "cell_type": "code",
   "execution_count": null,
   "metadata": {},
   "outputs": [],
   "source": [
    "import matplotlib.pyplot as plt\n",
    "import numpy as np\n",
    "from sklearn.cluster import DBSCAN\n",
    "from scipy.stats import gaussian_kde\n",
    "from mpl_toolkits.mplot3d import Axes3D\n",
    "\n",
    "\n",
    "e = 1\n",
    "\n",
    "embs = np.empty((0,2))\n",
    "dict_clst = {}\n",
    "\n",
    "with h5py.File('nn.hdf5') as f:\n",
    "\tg = f['nn-9']\t\t\n",
    "\t\n",
    "\tfor i in g['|']:\n",
    "\t\ti = i.reshape(1, -1)\n",
    "\t\tembs = np.concatenate((embs, i), axis=0)\n",
    "\n",
    "dbscan = DBSCAN(eps=e, min_samples=10)\n",
    "cluster = dbscan.fit_predict(embs)\n",
    "print(f'clusters:{max(cluster)+1}, noise:{np.sum(cluster == -1)}')\n",
    "plt.scatter(x=embs[:,0], y=embs[:,1], c=cluster)\n",
    "plt.show()"
   ]
  },
  {
   "cell_type": "code",
   "execution_count": null,
   "metadata": {},
   "outputs": [],
   "source": [
    "import h5py\n",
    "import numpy as np\n",
    "import matplotlib.pyplot as plt\n",
    "from scipy.stats import gaussian_kde\n",
    "from mpl_toolkits.mplot3d import Axes3D\n",
    "\n",
    "sw = 'am'\n",
    "\n",
    "# HDF5 ファイルからデータを読み込み\n",
    "embs = np.empty((0, 2))\n",
    "\n",
    "with h5py.File('de.hdf5', 'r') as f:\n",
    "    g = f['de-2']\n",
    "    for i in g[sw]:\n",
    "        i = i.reshape(1, -1)  # (2,) を (1, 2) に変換\n",
    "        embs = np.concatenate((embs, i), axis=0)\n",
    "\n",
    "# KDE を計算\n",
    "kde = gaussian_kde(embs.T)\n",
    "\n",
    "# グリッドを作成\n",
    "x_min, x_max = embs[:, 0].min(), embs[:, 0].max()\n",
    "y_min, y_max = embs[:, 1].min(), embs[:, 1].max()\n",
    "x_grid = np.linspace(x_min, x_max, 50)\n",
    "y_grid = np.linspace(y_min, y_max, 50)\n",
    "X, Y = np.meshgrid(x_grid, y_grid)\n",
    "\n",
    "# KDE を評価\n",
    "positions = np.vstack([X.ravel(), Y.ravel()])\n",
    "Z = kde(positions).reshape(X.shape)\n",
    "\n",
    "# 3D プロット\n",
    "fig = plt.figure(figsize=(12, 8))\n",
    "ax = fig.add_subplot(111, projection='3d')\n",
    "\n",
    "ax.plot_surface(X, Y, Z, cmap='viridis', edgecolor='none', alpha=0.7)\n",
    "ax.set_xlabel('X')\n",
    "ax.set_ylabel('Y')\n",
    "ax.set_zlabel('Density')\n",
    "ax.set_title(f'3D KDE Plot of Embeddings \"{sw}\"')\n",
    "\n",
    "plt.show()\n"
   ]
  },
  {
   "cell_type": "code",
   "execution_count": null,
   "metadata": {},
   "outputs": [],
   "source": [
    "import h5py\n",
    "import numpy as np\n",
    "import plotly.graph_objects as go\n",
    "from scipy.stats import gaussian_kde\n",
    "\n",
    "sw = '|'\n",
    "\n",
    "# HDF5 ファイルからデータを読み込み\n",
    "embs = np.empty((0, 2))\n",
    "\n",
    "with h5py.File('nn.hdf5', 'r') as f:\n",
    "    g = f['nn-9']\n",
    "    for i in g[sw]:\n",
    "        i = i.reshape(1, -1)  # (2,) を (1, 2) に変換\n",
    "        embs = np.concatenate((embs, i), axis=0)\n",
    "\n",
    "# KDE を計算\n",
    "kde = gaussian_kde(embs.T)\n",
    "\n",
    "# グリッドを作成\n",
    "x_min, x_max = embs[:, 0].min(), embs[:, 0].max()\n",
    "y_min, y_max = embs[:, 1].min(), embs[:, 1].max()\n",
    "x_grid = np.linspace(x_min, x_max, 50)\n",
    "y_grid = np.linspace(y_min, y_max, 50)\n",
    "X, Y = np.meshgrid(x_grid, y_grid)\n",
    "\n",
    "# KDE を評価\n",
    "positions = np.vstack([X.ravel(), Y.ravel()])\n",
    "Z = kde(positions).reshape(X.shape)\n",
    "\n",
    "# Plotly で 3D KDE をプロット\n",
    "fig = go.Figure()\n",
    "\n",
    "fig.add_trace(go.Surface(\n",
    "    x=X, y=Y, z=Z,\n",
    "    colorscale='Viridis',\n",
    "    opacity=0.8\n",
    "))\n",
    "\n",
    "# レイアウトの設定\n",
    "fig.update_layout(\n",
    "    title=f'3D KDE Plot of \"{sw}\"',\n",
    "    scene=dict(\n",
    "        xaxis_title=\"X\",\n",
    "        yaxis_title=\"Y\",\n",
    "        zaxis_title=\"Density\"\n",
    "    )\n",
    ")\n",
    "\n",
    "# 表示\n",
    "fig.show()\n"
   ]
  },
  {
   "cell_type": "code",
   "execution_count": null,
   "metadata": {},
   "outputs": [],
   "source": [
    "lang = 'nn'\n",
    "id = 9\n",
    "top = 0\n",
    "bottom = 10\n",
    "\n",
    "\n",
    "import h5py\n",
    "import pandas as pd\n",
    "import numpy as np\n",
    "import matplotlib.pyplot as plt\n",
    "from scipy.stats import gaussian_kde\n",
    "from mpl_toolkits.mplot3d import Axes3D\n",
    "\n",
    "list_freq = []\n",
    "\n",
    "with h5py.File(f'{lang}.hdf5') as f:\n",
    "\tg = f[f'{lang}-{id}']\t\t\n",
    "\tfor k in g.keys():\n",
    "\t\tlist_freq.append((k, g[k].shape[0]))\n",
    "\n",
    "df_freq = pd.DataFrame(list_freq)\n",
    "df_freq.sort_values(by=1, ascending=False, inplace=True)\n",
    "subwords = df_freq.iloc[top:bottom,0]\n",
    "\n",
    "for sw in subwords:\n",
    "\t# HDF5 ファイルからデータを読み込み\n",
    "\tembs = np.empty((0, 2))\n",
    "\n",
    "\twith h5py.File(f'{lang}.hdf5') as f:\n",
    "\t\tg = f[f'{lang}-{id}']\t\t\n",
    "\t\tfor i in g[sw]:\n",
    "\t\t\ti = i.reshape(1, -1)  # (2,) を (1, 2) に変換\n",
    "\t\t\tembs = np.concatenate((embs, i), axis=0)\n",
    "\n",
    "\t# KDE を計算\n",
    "\tkde = gaussian_kde(embs.T)\n",
    "\n",
    "\t# グリッドを作成\n",
    "\tx_min, x_max = embs[:, 0].min(), embs[:, 0].max()\n",
    "\ty_min, y_max = embs[:, 1].min(), embs[:, 1].max()\n",
    "\tx_grid = np.linspace(x_min, x_max, 50)\n",
    "\ty_grid = np.linspace(y_min, y_max, 50)\n",
    "\tX, Y = np.meshgrid(x_grid, y_grid)\n",
    "\n",
    "\t# KDE を評価\n",
    "\tpositions = np.vstack([X.ravel(), Y.ravel()])\n",
    "\tZ = kde(positions).reshape(X.shape)\n",
    "\n",
    "\t# 3D プロット\n",
    "\tfig = plt.figure(figsize=(6, 4))\n",
    "\tax = fig.add_subplot(111, projection='3d')\n",
    "\n",
    "\tax.plot_surface(X, Y, Z, cmap='viridis', edgecolor='none', alpha=0.7)\n",
    "\tax.set_xlabel('X')\n",
    "\tax.set_ylabel('Y')\n",
    "\tax.set_zlabel('Density')\n",
    "\tax.set_title(f'3D KDE Plot of Embeddings \"{sw}\"')\n",
    "\n",
    "\tplt.show()\n"
   ]
  },
  {
   "cell_type": "code",
   "execution_count": null,
   "metadata": {},
   "outputs": [],
   "source": [
    "lang = 'ba'\n",
    "\n",
    "import h5py\n",
    "import pandas as pd\n",
    "import numpy as np\n",
    "from scipy.stats import gaussian_kde\n",
    "from scipy.integrate import simpson\n",
    "\n",
    "list_H = []\n",
    "\n",
    "for id in range(1, 11):\n",
    "\tlist_freq = []\n",
    "\tlist_entropy = []\n",
    "\n",
    "\twith h5py.File(f'data/{lang}.hdf5') as f:\n",
    "\t\tg = f[f'{lang}-{id}']\t\t\n",
    "\t\tfor k in g.keys():\n",
    "\t\t\tlist_freq.append((k, g[k].shape[0]))\n",
    "\n",
    "\tdf_freq = pd.DataFrame(list_freq)\n",
    "\tdf_freq.sort_values(by=1, ascending=False, inplace=True)\n",
    "\tsubwords = df_freq[df_freq[1]>1000].iloc[:,0]\n",
    "\n",
    "\tfor sw in subwords:\n",
    "\t\t# HDF5 ファイルからデータを読み込み\n",
    "\t\tembs = np.empty((0, 2))\n",
    "\n",
    "\t\twith h5py.File(f'data/{lang}.hdf5') as f:\n",
    "\t\t\tg = f[f'{lang}-{id}']\t\t\n",
    "\t\t\tfor i in g[sw]:\n",
    "\t\t\t\ti = i.reshape(1, -1)  # (2,) を (1, 2) に変換\n",
    "\t\t\t\tembs = np.concatenate((embs, i), axis=0)\n",
    "\n",
    "\t\t# KDE を計算\n",
    "\t\tkde = gaussian_kde(embs.T)\n",
    "\n",
    "\t\tx_grid = np.linspace(embs[:,0].min(), embs[:,0].max(), 100)\n",
    "\t\ty_grid = np.linspace(embs[:,1].min(), embs[:,1].max(), 100)\n",
    "\t\tX, Y = np.meshgrid(x_grid, y_grid)\n",
    "\t\tpositions = np.vstack([X.ravel(), Y.ravel()])\n",
    "\t\tP = kde(positions).reshape(X.shape)  # 2D に変換\n",
    "\n",
    "\t\t# 🌟 3️⃣ シャノンエントロピーの計算\n",
    "\t\tdx = x_grid[1] - x_grid[0]  # X 軸の間隔\n",
    "\t\tdy = y_grid[1] - y_grid[0]  # Y 軸の間隔\n",
    "\n",
    "\t\tentropy_x = simpson(simpson(P * np.log(P + 1e-10), dx=dx, axis=0), dx=dy, axis=0)\n",
    "\t\tentropy = -entropy_x * dx * dy  # 積分結果を調整\n",
    "\t\tlist_entropy.append(entropy)\n",
    "\n",
    "\t\t#print(f'{sw}: {entropy:.4f}')\n",
    "\tlist_H.append(np.mean(list_entropy))\n",
    "\tprint(f'{lang}-{id}: {np.mean(list_entropy):.4f}')\n",
    "\n",
    "print(f'{lang}: {np.mean(list_H):.4f}')"
   ]
  },
  {
   "cell_type": "code",
   "execution_count": null,
   "metadata": {},
   "outputs": [],
   "source": [
    "from transformers import BertTokenizer, BertModel\n",
    "import numpy as np\n",
    "\n",
    "with open('data/test-the.txt', 'r') as f:\n",
    "\ttext = f.readlines()\n",
    "\ttext = [t.strip() for t in text]\n",
    "\ttext = [t for t in text if 'the' in t]\n",
    "embeddings = np.empty([0, 768])\n",
    "\n",
    "model = BertModel.from_pretrained('bert-base-uncased')\n",
    "tokenizer = BertTokenizer.from_pretrained('bert-base-uncased')\n",
    "encoded = tokenizer(text, return_tensors='pt', truncation=True, padding=True)\n",
    "subwords = tokenizer.convert_ids_to_tokens(encoded['input_ids'][0][1:-1])\n",
    "index = [i for i in range(len(subwords)) if subwords[i] == 'the']\n",
    "output = model(**encoded) \n",
    "embed = output.last_hidden_state.squeeze(0)\n",
    "for i in index:\n",
    "\tembeddings = np.concatenate((embeddings, embed[i].detach().numpy().reshape(1,-1)))"
   ]
  },
  {
   "cell_type": "code",
   "execution_count": null,
   "metadata": {},
   "outputs": [],
   "source": [
    "test = np.random.uniform(lower_bound, upper_bound, size=(768, 10))"
   ]
  },
  {
   "cell_type": "code",
   "execution_count": null,
   "metadata": {},
   "outputs": [],
   "source": [
    "from scipy.stats import gaussian_kde\n",
    "\n",
    "data = np.random.rand(100,100)\n",
    "kde = gaussian_kde(data.T)"
   ]
  },
  {
   "cell_type": "code",
   "execution_count": null,
   "metadata": {},
   "outputs": [],
   "source": [
    "test.shape"
   ]
  },
  {
   "cell_type": "code",
   "execution_count": null,
   "metadata": {},
   "outputs": [],
   "source": [
    "from transformers import BertTokenizer, BertModel\n",
    "tokenizer = BertTokenizer.from_pretrained('bert-base-uncased')\n",
    "model = BertModel.from_pretrained('bert-base-uncased')\n",
    "\n",
    "sentences = [\n",
    "    \"The sun rises in the east.\",\n",
    "    \"She enjoys reading historical novels.\",\n",
    "    \"He went to the gym early this morning.\",\n",
    "    \"They are planning a trip to Italy next summer.\",\n",
    "    \"The cat slept peacefully on the windowsill.\",\n",
    "    \"I love drinking coffee in the morning.\",\n",
    "    \"We watched a great movie last night.\",\n",
    "    \"The teacher explained the concept clearly.\",\n",
    "    \"It's going to rain later today.\",\n",
    "    \"He plays the guitar really well.\"\n",
    "]\n",
    "\n",
    "encoded = tokenizer(sentences, return_tensors='pt', truncation=True, padding=True)\n",
    "subwords = [tokenizer.convert_ids_to_tokens(encoded['input_ids'][i]) for i in range(encoded['input_ids'].shape[0])]\n",
    "output = model(**encoded).last_hidden_state"
   ]
  },
  {
   "cell_type": "code",
   "execution_count": null,
   "metadata": {},
   "outputs": [],
   "source": [
    "import numpy as np\n",
    "import torch\n",
    "dict_emb = {}\n",
    "for s, embs in zip(subwords, output):\n",
    "\tfor sw,emb in zip(s, embs):\n",
    "\t\temb = emb.unsqueeze(0)\n",
    "\t\tif sw not in dict_emb:\n",
    "\t\t\tdict_emb[sw] = emb\n",
    "\t\telse:\n",
    "\t\t\tdict_emb[sw] = torch.cat((dict_emb[sw], emb), dim=0)"
   ]
  },
  {
   "cell_type": "code",
   "execution_count": null,
   "metadata": {},
   "outputs": [],
   "source": [
    "dict_emb['the']"
   ]
  },
  {
   "cell_type": "code",
   "execution_count": null,
   "metadata": {},
   "outputs": [],
   "source": [
    "from scipy.stats import gaussian_kde\n",
    "\n",
    "dict_kde = {}\n",
    "for sw in dict_emb:\n",
    "\tdict_kde[sw] = gaussian_kde(dict_emb[sw].detach().numpy().T)"
   ]
  },
  {
   "cell_type": "code",
   "execution_count": null,
   "metadata": {},
   "outputs": [],
   "source": [
    "import numpy as np\n",
    "import math\n",
    "\n",
    "def compute_entropy_from_kde(kde, num_samples=100000, bounds=(-1, 1)):\n",
    "    dim = kde.dataset.shape[0]  # 次元数（例：768）\n",
    "\n",
    "    # ステップ1：一様分布からサンプルを生成（評価点）\n",
    "    lower = np.full(dim, bounds[0])\n",
    "    upper = np.full(dim, bounds[1])\n",
    "    samples = np.random.uniform(lower, upper, size=(dim, num_samples))  # shape: (dim, num_samples)\n",
    "\n",
    "    # ステップ2：確率密度を評価\n",
    "    probs = kde(samples)  # shape: (num_samples,)\n",
    "\n",
    "    # ステップ3：数値安定性のために小さい値を加算（log(0)回避）\n",
    "    epsilon = 1e-12\n",
    "    log_probs = np.log(probs + epsilon)  # natural log（底e）\n",
    "    \n",
    "    # ステップ4：モンテカルロ近似で積分\n",
    "    entropy_estimates = -probs * log_probs\n",
    "    volume = np.prod(upper - lower)  # 領域体積（[-1,1]^d）\n",
    "    entropy = volume * np.mean(entropy_estimates)\n",
    "\n",
    "    return entropy\n"
   ]
  },
  {
   "cell_type": "code",
   "execution_count": 3,
   "metadata": {},
   "outputs": [
    {
     "ename": "ValueError",
     "evalue": "Number of dimensions is greater than number of samples. This results in a singular data covariance matrix, which cannot be treated using the algorithms implemented in `gaussian_kde`. Note that `gaussian_kde` interprets each *column* of `dataset` to be a point; consider transposing the input to `dataset`.",
     "output_type": "error",
     "traceback": [
      "\u001b[0;31m---------------------------------------------------------------------------\u001b[0m",
      "\u001b[0;31mValueError\u001b[0m                                Traceback (most recent call last)",
      "Cell \u001b[0;32mIn[3], line 11\u001b[0m\n\u001b[1;32m      7\u001b[0m density \u001b[38;5;241m=\u001b[39m Density()\n\u001b[1;32m      9\u001b[0m dict_embeddings \u001b[38;5;241m=\u001b[39m embedding\u001b[38;5;241m.\u001b[39membed()\n\u001b[0;32m---> 11\u001b[0m density\u001b[38;5;241m.\u001b[39mkde(dict_embeddings)\n\u001b[1;32m     12\u001b[0m density\u001b[38;5;241m.\u001b[39mentropy()\n",
      "File \u001b[0;32m~/project/qualico2025/analysis/classes.py:50\u001b[0m, in \u001b[0;36mDensity.kde\u001b[0;34m(self, dict_embeddings)\u001b[0m\n\u001b[1;32m     48\u001b[0m \u001b[38;5;28;01mdef\u001b[39;00m \u001b[38;5;21mkde\u001b[39m(\u001b[38;5;28mself\u001b[39m, dict_embeddings):\n\u001b[1;32m     49\u001b[0m \t\u001b[38;5;28;01mfor\u001b[39;00m sw \u001b[38;5;129;01min\u001b[39;00m dict_embeddings:\n\u001b[0;32m---> 50\u001b[0m \t\t\u001b[38;5;28mself\u001b[39m\u001b[38;5;241m.\u001b[39mdict_kde[sw] \u001b[38;5;241m=\u001b[39m gaussian_kde(dict_embeddings[sw]\u001b[38;5;241m.\u001b[39mdetach()\u001b[38;5;241m.\u001b[39mnumpy()\u001b[38;5;241m.\u001b[39mT)\n",
      "File \u001b[0;32m~/anaconda3/lib/python3.11/site-packages/scipy/stats/_kde.py:223\u001b[0m, in \u001b[0;36mgaussian_kde.__init__\u001b[0;34m(self, dataset, bw_method, weights)\u001b[0m\n\u001b[1;32m    216\u001b[0m \u001b[38;5;28;01mif\u001b[39;00m \u001b[38;5;28mself\u001b[39m\u001b[38;5;241m.\u001b[39md \u001b[38;5;241m>\u001b[39m \u001b[38;5;28mself\u001b[39m\u001b[38;5;241m.\u001b[39mn:\n\u001b[1;32m    217\u001b[0m     msg \u001b[38;5;241m=\u001b[39m (\u001b[38;5;124m\"\u001b[39m\u001b[38;5;124mNumber of dimensions is greater than number of samples. \u001b[39m\u001b[38;5;124m\"\u001b[39m\n\u001b[1;32m    218\u001b[0m            \u001b[38;5;124m\"\u001b[39m\u001b[38;5;124mThis results in a singular data covariance matrix, which \u001b[39m\u001b[38;5;124m\"\u001b[39m\n\u001b[1;32m    219\u001b[0m            \u001b[38;5;124m\"\u001b[39m\u001b[38;5;124mcannot be treated using the algorithms implemented in \u001b[39m\u001b[38;5;124m\"\u001b[39m\n\u001b[1;32m    220\u001b[0m            \u001b[38;5;124m\"\u001b[39m\u001b[38;5;124m`gaussian_kde`. Note that `gaussian_kde` interprets each \u001b[39m\u001b[38;5;124m\"\u001b[39m\n\u001b[1;32m    221\u001b[0m            \u001b[38;5;124m\"\u001b[39m\u001b[38;5;124m*column* of `dataset` to be a point; consider transposing \u001b[39m\u001b[38;5;124m\"\u001b[39m\n\u001b[1;32m    222\u001b[0m            \u001b[38;5;124m\"\u001b[39m\u001b[38;5;124mthe input to `dataset`.\u001b[39m\u001b[38;5;124m\"\u001b[39m)\n\u001b[0;32m--> 223\u001b[0m     \u001b[38;5;28;01mraise\u001b[39;00m \u001b[38;5;167;01mValueError\u001b[39;00m(msg)\n\u001b[1;32m    225\u001b[0m \u001b[38;5;28;01mtry\u001b[39;00m:\n\u001b[1;32m    226\u001b[0m     \u001b[38;5;28mself\u001b[39m\u001b[38;5;241m.\u001b[39mset_bandwidth(bw_method\u001b[38;5;241m=\u001b[39mbw_method)\n",
      "\u001b[0;31mValueError\u001b[0m: Number of dimensions is greater than number of samples. This results in a singular data covariance matrix, which cannot be treated using the algorithms implemented in `gaussian_kde`. Note that `gaussian_kde` interprets each *column* of `dataset` to be a point; consider transposing the input to `dataset`."
     ]
    }
   ],
   "source": [
    "from classes import Embedding, Density\n",
    "\n",
    "with open('test-the.txt', 'r') as f:\n",
    "\ttext = f.readlines()\n",
    "\ttext = text[:100]\n",
    "embedding = Embedding('bert-base-cased', 'bert-base-cased', text)\n",
    "density = Density()\n",
    "\n",
    "dict_embeddings = embedding.embed()\n",
    "\n",
    "density.kde(dict_embeddings)\n",
    "density.entropy()"
   ]
  },
  {
   "cell_type": "code",
   "execution_count": null,
   "metadata": {},
   "outputs": [
    {
     "name": "stdout",
     "output_type": "stream",
     "text": [
      "Analysis completed: 22:06:46.\n",
      " Processing time:  seconds.\n"
     ]
    }
   ],
   "source": [
    "import time\n",
    "from datetime import datetime\n",
    "t = datetime.now()\n",
    "\n",
    "print(f'Analysis completed: {t.strftime(\"%H:%M:%S\")}.\\nProcessing time:  seconds.')"
   ]
  },
  {
   "cell_type": "code",
   "execution_count": 24,
   "metadata": {},
   "outputs": [
    {
     "name": "stdout",
     "output_type": "stream",
     "text": [
      "Analysis completed: 21:58:S%Processing time:  seconds.\n"
     ]
    }
   ],
   "source": [
    "print(f'Analysis completed: {t.strftime(\"%H:%M:S%\")}Processing time:  seconds.')"
   ]
  },
  {
   "cell_type": "code",
   "execution_count": null,
   "metadata": {},
   "outputs": [
    {
     "name": "stdout",
     "output_type": "stream",
     "text": [
      "1.005\n"
     ]
    }
   ],
   "source": [
    "import time\n",
    "\n",
    "t1 = time.time()\n",
    "time.sleep(1)\n",
    "t2 = time.time()\n",
    "break\n",
    "print(round(t2 - t1, 3))"
   ]
  },
  {
   "cell_type": "code",
   "execution_count": 38,
   "metadata": {},
   "outputs": [
    {
     "data": {
      "image/png": "[encoded data removed]",
      "text/plain": [
       "<Figure size 640x480 with 1 Axes>"
      ]
     },
     "metadata": {},
     "output_type": "display_data"
    }
   ],
   "source": [
    "import matplotlib.pyplot as plt\n",
    "import numpy as np\n",
    "list_entropy = np.random.normal(loc=5, scale=2, size=1000)\n",
    "plt.hist(list_entropy, bins=10)\n",
    "plt.axvline(np.mean(list_entropy), color='red', linestyle='dashed', linewidth=2, label=f\"Mean:np.mean({list_entropy})\")\n",
    "plt.title(f'{id}')\n",
    "plt.xlabel('Entropy')\n",
    "plt.ylabel('Frequency')\n",
    "plt.savefig(f'{id}-histogram.png')"
   ]
  },
  {
   "cell_type": "markdown",
   "metadata": {},
   "source": []
  },
  {
   "cell_type": "code",
   "execution_count": null,
   "metadata": {},
   "outputs": [],
   "source": []
  }
 ],
 "metadata": {
  "kernelspec": {
   "display_name": "base",
   "language": "python",
   "name": "python3"
  },
  "language_info": {
   "codemirror_mode": {
    "name": "ipython",
    "version": 3
   },
   "file_extension": ".py",
   "mimetype": "text/x-python",
   "name": "python",
   "nbconvert_exporter": "python",
   "pygments_lexer": "ipython3",
   "version": "3.11.5"
  }
 },
 "nbformat": 4,
 "nbformat_minor": 2
}
